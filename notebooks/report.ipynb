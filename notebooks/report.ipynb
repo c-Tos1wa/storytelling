{
 "cells": [
  {
   "cell_type": "code",
   "execution_count": 1,
   "id": "e365899d-40fa-491c-b8cc-dc71a798e12d",
   "metadata": {},
   "outputs": [],
   "source": [
    "import pandas as pd\n",
    "import numpy as np\n",
    "import seaborn as sns\n",
    "import matplotlib.pyplot as plt"
   ]
  },
  {
   "cell_type": "code",
   "execution_count": 2,
   "id": "6ca809e1-a904-457b-9b0f-0465469a36b2",
   "metadata": {},
   "outputs": [],
   "source": [
    "pd.options.display.float_format = '{:,.2f}'.format"
   ]
  },
  {
   "cell_type": "code",
   "execution_count": 3,
   "id": "28e90a74-a110-4a97-a491-db8b81fabd66",
   "metadata": {},
   "outputs": [
    {
     "data": {
      "image/png": "[encoded data removed]",
      "text/plain": [
       "<Figure size 500x100 with 1 Axes>"
      ]
     },
     "metadata": {},
     "output_type": "display_data"
    }
   ],
   "source": [
    "# Paleta de cores para storytelling de dados\n",
    "\n",
    "pallette = ['#183FFE', '#00D100', '#FFD000','#FE0002', '#f5f5f5']\n",
    "sns.palplot(pallette)\n",
    "plt.title('Paleta de cores - Ministério da Fazenda', loc = 'center', fontsize = 15, y = 1);"
   ]
  },
  {
   "cell_type": "code",
   "execution_count": null,
   "id": "0ee4dfa0-abd3-4c92-b439-d5eaafa14ce1",
   "metadata": {},
   "outputs": [],
   "source": []
  },
  {
   "cell_type": "code",
   "execution_count": null,
   "id": "31e3bf68-9e7d-4a28-b962-bb1a35686225",
   "metadata": {},
   "outputs": [],
   "source": []
  },
  {
   "cell_type": "code",
   "execution_count": null,
   "id": "59149101-4d1c-4553-8306-a15109864bb1",
   "metadata": {},
   "outputs": [],
   "source": []
  }
 ],
 "metadata": {
  "kernelspec": {
   "display_name": "Python 3 (ipykernel)",
   "language": "python",
   "name": "python3"
  },
  "language_info": {
   "codemirror_mode": {
    "name": "ipython",
    "version": 3
   },
   "file_extension": ".py",
   "mimetype": "text/x-python",
   "name": "python",
   "nbconvert_exporter": "python",
   "pygments_lexer": "ipython3",
   "version": "3.9.13"
  }
 },
 "nbformat": 4,
 "nbformat_minor": 5
}
